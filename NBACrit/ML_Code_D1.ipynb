{
 "cells": [
  {
   "cell_type": "code",
   "execution_count": null,
   "id": "a7633cd7",
   "metadata": {},
   "outputs": [],
   "source": [
    "# Import the modules\n",
    "import numpy as np\n",
    "import pandas as pd\n",
    "from pathlib import Path\n",
    "from sklearn.metrics import balanced_accuracy_score, confusion_matrix, classification_report\n",
    "\n",
    "from sklearn.model_selection import train_test_split\n",
    "from sklearn.preprocessing import StandardScaler\n",
    "import tensorflow as tf"
   ]
  },
  {
   "cell_type": "markdown",
   "id": "dc34d4f6",
   "metadata": {},
   "source": [
    "## Split the Data into Training and Testing Sets"
   ]
  },
  {
   "cell_type": "code",
   "execution_count": null,
   "id": "a8cb3e43",
   "metadata": {},
   "outputs": [],
   "source": [
    "# Read the CSV file \n",
    "nba_df = pd.read_csv(\"\")\n",
    "\n",
    "# Review the DataFrame\n",
    "nba_df.head()"
   ]
  },
  {
   "cell_type": "code",
   "execution_count": null,
   "id": "0c10ea3a",
   "metadata": {},
   "outputs": [],
   "source": [
    "# Drop non-beneficial columns if applicable \n",
    "nba_df.drop(columns=[''], inplace=True)"
   ]
  },
  {
   "cell_type": "code",
   "execution_count": null,
   "id": "6e003bc8",
   "metadata": {},
   "outputs": [],
   "source": [
    "# Determine the number of unique values in each column.\n",
    "nba_df.nunique()"
   ]
  },
  {
   "cell_type": "code",
   "execution_count": null,
   "id": "bb86ed78",
   "metadata": {},
   "outputs": [],
   "source": [
    "# Look at XXXX value counts for binning\n",
    "nba_df['XXXX'].value_counts()"
   ]
  },
  {
   "cell_type": "code",
   "execution_count": null,
   "id": "c9b6e9a8",
   "metadata": {},
   "outputs": [],
   "source": [
    "# Choose a cutoff value and create a list of XXXX to be replaced\n",
    "# use the variable name `XXXX_types_to_replace`\n",
    "xxxx_types = pd.DataFrame(nba_df[''].value_counts()).reset_index()\n",
    "\n",
    "xxxx_types_to_replace = []\n",
    "\n",
    "for index, row in xxxx_types.iterrows():\n",
    "    if row[''] < #x:\n",
    "        xxxx_types_to_replace.append(row['index'])\n",
    "xxxx_types_to_replace \n",
    "\n",
    "\n",
    "# Replace in dataframe\n",
    "for xxxx in xxxx_types_to_replace:\n",
    "    nba_df[''] = nba_df[''].replace(xxxx,\"Other\")\n",
    "\n",
    "# Check to make sure binning was successful\n",
    "nba_df[''].value_counts()"
   ]
  },
  {
   "cell_type": "code",
   "execution_count": null,
   "id": "d3d19a82",
   "metadata": {},
   "outputs": [],
   "source": [
    "# Look at YYYY value counts for binning\n",
    "yyyy_counts = nba_df['YYYY'].value_counts()\n",
    "yyyy_counts"
   ]
  },
  {
   "cell_type": "code",
   "execution_count": null,
   "id": "ca4762d8",
   "metadata": {},
   "outputs": [],
   "source": [
    "# Choose a cutoff value and create a list of YYYY to be replaced\n",
    "# use the variable name `yyyy_to_replace`\n",
    "yyyy_types = pd.DataFrame(nba_df['YYYY'].value_counts()).reset_index()\n",
    "\n",
    "yyyy_to_replace = []\n",
    "\n",
    "for index, row in yyyy.iterrows():\n",
    "    if row['YYYY'] < #y:\n",
    "        yyyy_to_replace.append(row['index'])\n",
    "yyyy_to_replace \n",
    "\n",
    "# Replace in dataframe\n",
    "for yyyy in yyyy_to_replace:\n",
    "    nba_df['YYYY'] = nba_df['YYYY'].replace(yyyy,\"Other\")\n",
    "    \n",
    "# Check to make sure binning was successful\n",
    "nba_df['YYYY'].value_counts()"
   ]
  },
  {
   "cell_type": "code",
   "execution_count": null,
   "id": "893618f4",
   "metadata": {},
   "outputs": [],
   "source": [
    "# Convert categorical data to numeric with `pd.get_dummies`\n",
    "nba_df = pd.get_dummies(nba_df)"
   ]
  },
  {
   "cell_type": "code",
   "execution_count": null,
   "id": "e691d952",
   "metadata": {},
   "outputs": [],
   "source": [
    "# Split our preprocessed data into our features and target arrays\n",
    "y = nba_df['']\n",
    "X = nba_df.drop(columns='')"
   ]
  },
  {
   "cell_type": "code",
   "execution_count": null,
   "id": "84519a5b",
   "metadata": {},
   "outputs": [],
   "source": [
    "# Split the preprocessed data into a training and testing dataset\n",
    "X_train, X_test, y_train, y_test = train_test_split(X, y, random_state = 1)"
   ]
  },
  {
   "cell_type": "code",
   "execution_count": null,
   "id": "0234d402",
   "metadata": {},
   "outputs": [],
   "source": [
    "# Create a StandardScaler instances\n",
    "scaler = StandardScaler()\n",
    "\n",
    "# Fit the StandardScaler\n",
    "X_scaler = scaler.fit(X_train)\n",
    "\n",
    "# Scale the data\n",
    "X_train_scaled = X_scaler.transform(X_train)\n",
    "X_test_scaled = X_scaler.transform(X_test)"
   ]
  },
  {
   "cell_type": "markdown",
   "id": "30e0f1dd",
   "metadata": {},
   "source": [
    "## Compile, Train and Evaluate the Model"
   ]
  },
  {
   "cell_type": "code",
   "execution_count": null,
   "id": "03fd6dd1",
   "metadata": {},
   "outputs": [],
   "source": [
    "# Define the model - deep neural net, i.e., the number of input features and hidden nodes for each layer.\n",
    "from tensorflow import keras\n",
    "from tensorflow.keras import layers\n",
    "\n",
    "nn = tf.keras.models.Sequential()\n",
    "\n",
    "# First hidden layer\n",
    "nn.add(layers.Dense(units = 100, activation = 'relu', input_dim = ))\n",
    "\n",
    "# Second hidden layer\n",
    "nn.add(layers.Dense(units = 50, activation = 'elu'))\n",
    "\n",
    "# Output layer\n",
    "nn.add(layers.Dense(units = 1, activation = 'sigmoid'))\n",
    "\n",
    "# Check the structure of the model\n",
    "nn.summary()"
   ]
  },
  {
   "cell_type": "code",
   "execution_count": null,
   "id": "7fe26bfb",
   "metadata": {},
   "outputs": [],
   "source": [
    "# Compile the model\n",
    "nn.compile(loss ='binary_crossentropy', optimizer = 'adam', metrics = ['accuracy'])"
   ]
  },
  {
   "cell_type": "code",
   "execution_count": null,
   "id": "5f862e47",
   "metadata": {},
   "outputs": [],
   "source": [
    "# Train the model\n",
    "fit_modelnn = nn.fit(X_train_scaled, y_train, epochs = 100)"
   ]
  },
  {
   "cell_type": "code",
   "execution_count": null,
   "id": "d1cc39ed",
   "metadata": {},
   "outputs": [],
   "source": [
    "# Evaluate the model using the test data\n",
    "model_loss, model_accuracy = nn.evaluate(X_test_scaled,y_test,verbose=2)\n",
    "print(f\"Loss: {model_loss}, Accuracy: {model_accuracy}\")"
   ]
  },
  {
   "cell_type": "code",
   "execution_count": null,
   "id": "5e7d53aa",
   "metadata": {},
   "outputs": [],
   "source": []
  },
  {
   "cell_type": "code",
   "execution_count": null,
   "id": "a2899065",
   "metadata": {},
   "outputs": [],
   "source": []
  }
 ],
 "metadata": {
  "kernelspec": {
   "display_name": "Python 3 (ipykernel)",
   "language": "python",
   "name": "python3"
  },
  "language_info": {
   "codemirror_mode": {
    "name": "ipython",
    "version": 3
   },
   "file_extension": ".py",
   "mimetype": "text/x-python",
   "name": "python",
   "nbconvert_exporter": "python",
   "pygments_lexer": "ipython3",
   "version": "3.9.13"
  }
 },
 "nbformat": 4,
 "nbformat_minor": 5
}
